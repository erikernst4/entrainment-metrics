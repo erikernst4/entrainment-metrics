{
 "cells": [
  {
   "cell_type": "markdown",
   "metadata": {},
   "source": [
    "# Usage examples of the entrainment_metrics library\n",
    "The goal of this notebook is to illustrate with a complete example the usage of the two main modules of the `entrainment_metrics` library: `tama` and `continuous`.\n",
    "\n",
    "We begin with one `.wav` and one `.words` files for each of two speakers, named as follows: `data/test-[AB].{wav,words}`.\n",
    "\n",
    "The `.words` files are time-aligned transcriptions, with one word per line with following format: `<start> <end> <word>`, where `<start>` and `<end>` are the time boundaries of the interval (expressed in seconds). The special symbol `#` indicates a silent interval. \n",
    "\n",
    "See the sample files in the `data/` directory. These files are excerpts taken from the __[UBA Games Corpus](https://ri.conicet.gov.ar/handle/11336/191235)__, a corpus of task-oriented dialogues in Argentine Spanish.\n",
    "\n",
    "If the transcriptions are at the IPU level (rather than at the word level), the examples within this notebook function identically."
   ]
  },
  {
   "cell_type": "markdown",
   "metadata": {},
   "source": [
    "## 1. Extraction of InterPausalUnits\n",
    "Starting from `.words` files, we may use the `get_interpausal_units` method for getting lists of InterPausalUnits:"
   ]
  },
  {
   "cell_type": "code",
   "execution_count": 1,
   "metadata": {},
   "outputs": [],
   "source": [
    "from entrainment_metrics import get_interpausal_units, InterPausalUnit\n",
    "from typing import List\n",
    "\n",
    "ipusA: List[InterPausalUnit] = get_interpausal_units('data/test-A.words')\n",
    "ipusB: List[InterPausalUnit] = get_interpausal_units('data/test-B.words')"
   ]
  },
  {
   "cell_type": "markdown",
   "metadata": {},
   "source": [
    "Let's inspect the first and last elements in each list, keeping in mind that these lists are sorted because the `.words` files are sorted as well:"
   ]
  },
  {
   "cell_type": "code",
   "execution_count": 2,
   "metadata": {},
   "outputs": [
    {
     "name": "stdout",
     "output_type": "stream",
     "text": [
      "First IPU from speaker A: InterPausalUnit(start=0.286443, end=2.608278)\n",
      "First IPU from speaker B: InterPausalUnit(start=2.759688, end=3.407453)\n",
      "Last IPU from speaker A: InterPausalUnit(start=56.238932, end=56.728739)\n",
      "Last IPU from speaker B: InterPausalUnit(start=57.259611, end=57.548625)\n"
     ]
    }
   ],
   "source": [
    "print(f\"First IPU from speaker A: {ipusA[0]}\")\n",
    "print(f\"First IPU from speaker B: {ipusB[0]}\")\n",
    "print(f\"Last IPU from speaker A: {ipusA[-1]}\")\n",
    "print(f\"Last IPU from speaker B: {ipusB[-1]}\")"
   ]
  },
  {
   "cell_type": "markdown",
   "metadata": {},
   "source": [
    "## 2. Time-Aligned Moving Average (TAMA) \n",
    "\n",
    "Let's take a look at the `tama` module, which implements two entrainment metrics -- *Signed* and *Unsigned Synchrony*, as described in Pérez et al. (2016).\n",
    "\n",
    "> Juan M. Pérez, Ramiro H. Gálvez, and Agustín Gravano (2016). __[“Disentrainment may be a Positive Thing: A Novel Measure of Unsigned Acoustic-Prosodic Synchrony, and its Relation to Speaker Engagement”](https://www.isca-speech.org/archive/interspeech_2016/perez16_interspeech.html)__. In Proceedings of INTERSPEECH 2016.\n",
    "\n",
    "\n",
    "\n",
    "\n",
    "### 2.1. Frame extraction\n",
    "The TAMA method first divides each speaker’s speech into overlapping frames of fixed length. We empirically adjust two method parameters, frame length at 16s and time step at 8s. A particular frame could contain no InterPausalUnits, in which case its acoustic/prosodic feature values are considered ‘missing’ and we use the MissingFrame object."
   ]
  },
  {
   "cell_type": "code",
   "execution_count": 3,
   "metadata": {},
   "outputs": [],
   "source": [
    "from entrainment_metrics.tama import Frame, MissingFrame\n",
    "\n",
    "frameA = Frame(\n",
    "    start=0.0,\n",
    "    end=58.0,\n",
    "    is_missing=False,\n",
    "    interpausal_units=ipusA\n",
    ")\n",
    "frameB = Frame(\n",
    "    start=0.0,\n",
    "    end=58.0,\n",
    "    is_missing=False,\n",
    "    interpausal_units=ipusB\n",
    ")"
   ]
  },
  {
   "cell_type": "markdown",
   "metadata": {},
   "source": [
    "Since we have the `.wav` and `.words` files, in this case we can use the `get_frames` method to extract the frames for each speaker, without the need to extract IPUs beforehand:"
   ]
  },
  {
   "cell_type": "code",
   "execution_count": 4,
   "metadata": {},
   "outputs": [
    {
     "name": "stdout",
     "output_type": "stream",
     "text": [
      "Frame(start=0.0, end=16.0, is_missing=False, interpausal_units=[InterPausalUnit(start=0.286443, end=2.608278), InterPausalUnit(start=3.663554, end=3.973054), InterPausalUnit(start=4.502876, end=4.97616), InterPausalUnit(start=6.152965, end=7.37), InterPausalUnit(start=8.004137, end=9.80344), InterPausalUnit(start=10.484763, end=13.516164), InterPausalUnit(start=14.23, end=15.86)])\n",
      "Frame(start=0.0, end=16.0, is_missing=False, interpausal_units=[InterPausalUnit(start=2.759688, end=3.407453), InterPausalUnit(start=4.199475, end=4.662328), InterPausalUnit(start=5.287946, end=5.944751), InterPausalUnit(start=10.492071, end=11.123235)])\n"
     ]
    }
   ],
   "source": [
    "from entrainment_metrics.tama import Frame, MissingFrame, get_frames\n",
    "from typing import List, Union\n",
    "\n",
    "frames_a: List[Union[Frame, MissingFrame]] = get_frames(\n",
    "    wav_fname='data/test-A.wav',\n",
    "    words_fname='data/test-A.words'\n",
    ")\n",
    "frames_b: List[Union[Frame, MissingFrame]] = get_frames(\n",
    "    wav_fname='data/test-B.wav',\n",
    "    words_fname='data/test-B.words'\n",
    ")\n",
    "    \n",
    "# Inspect the first frame in each list, each with its corresponding IPUs:\n",
    "print(frames_a[0])\n",
    "print(frames_b[0])"
   ]
  },
  {
   "cell_type": "markdown",
   "metadata": {},
   "source": [
    "### 2.2. Building time series of acoustic-prosodic features"
   ]
  },
  {
   "cell_type": "markdown",
   "metadata": {},
   "source": [
    "Now that we have the lists of frames, we may calculate the TAMA time series for each speaker. In this example, we do not have any pre-calculated features for the IPUs; therefore, we also specify the `audio_file`, `extractor`, and `pitch_gender` parameters to extract acoustic/prosodic features."
   ]
  },
  {
   "cell_type": "code",
   "execution_count": 5,
   "metadata": {},
   "outputs": [
    {
     "name": "stdout",
     "output_type": "stream",
     "text": [
      "[287.1819665723398, 247.59161786237323, 227.94721451630144, 223.4198545297063]\n",
      "[161.76952283782077, 171.29771292381037, 155.54419591465708, 159.34100092627986]\n"
     ]
    }
   ],
   "source": [
    "from entrainment_metrics.tama import calculate_time_series\n",
    "from typing import List\n",
    "\n",
    "time_series_a: List[float] = calculate_time_series(\n",
    "    feature=\"F0_MAX\",\n",
    "    frames=frames_a,\n",
    "    audio_file=\"data/test-A.wav\",\n",
    "    extractor=\"praat\",\n",
    "    pitch_gender=\"F\",\n",
    ")\n",
    "      \n",
    "time_series_b: List[float] = calculate_time_series(\n",
    "    feature=\"F0_MAX\",\n",
    "    frames=frames_b,\n",
    "    audio_file=\"data/test-B.wav\",\n",
    "    extractor=\"praat\",\n",
    "    pitch_gender=\"M\",\n",
    ")\n",
    "    \n",
    "# Inspect the first values in the time series computed for each speaker:\n",
    "print(time_series_a[:4])\n",
    "print(time_series_b[:4])"
   ]
  },
  {
   "cell_type": "markdown",
   "metadata": {},
   "source": [
    "### 2.3. Sample cross-correlation"
   ]
  },
  {
   "cell_type": "markdown",
   "metadata": {},
   "source": [
    "The sample cross-correlation is a measure which aims at capturing the correlation between two series when one of them is lagged (i.e., its points are shifted a number of positions). Intuitively, it can be interpreted similarly to Pearson’s correlation coefficient between a time-series and a lagged version of second one.\n",
    "\n",
    "Having two time series, the sample cross-correlation may be calculated as follows, considering `lags=5`:"
   ]
  },
  {
   "cell_type": "code",
   "execution_count": 6,
   "metadata": {},
   "outputs": [
    {
     "name": "stdout",
     "output_type": "stream",
     "text": [
      "[-0.00297885 -0.40160211 -0.58245462 -0.25883681  0.23560863         nan]\n"
     ]
    }
   ],
   "source": [
    "from entrainment_metrics.tama import calculate_sample_correlation\n",
    "from typing import List\n",
    "\n",
    "sample_cross_correlations: List[float] = calculate_sample_correlation(\n",
    "    time_series_a=time_series_a,\n",
    "    time_series_b=time_series_b,\n",
    "    lags=5,\n",
    ")\n",
    "\n",
    "# Print the resulting cross-correlations, for a lag of 0, 1, 2, 3, 4, and 5 points.\n",
    "print(sample_cross_correlations)"
   ]
  },
  {
   "cell_type": "markdown",
   "metadata": {},
   "source": [
    "NaN values are obtained when there are not enough non-missing terms to calculate cross-correlation.\n",
    "\n",
    "### 2.4. Signed and unsigned synchrony measures\n",
    "\n",
    "Besides sample cross-correlation, the library provides two ways of measuring acoustic-prosodic synchrony: *Signed* and *Unsigned Synchrony Measures*.\n",
    "\n",
    "For the Signed Synchrony Measure, positive values represent positive synchrony (or entrainment) in a straightforward way, and negative values represent negative synchrony (disentrainment).\n",
    "\n",
    "On the other hand, the Unsigned Synchrony Measure gives an equal treatment to positive and negative synchrony values, by taking the absolute value. In other words, high values in the time series are indicative of high levels of either entrainment or disentrainment; and low values correspond to a total lack of coordination in either direction.\n",
    "\n",
    "Let's compute both metrics in our example:"
   ]
  },
  {
   "cell_type": "code",
   "execution_count": 7,
   "metadata": {},
   "outputs": [
    {
     "name": "stdout",
     "output_type": "stream",
     "text": [
      "Signed synchrony: -0.5824546212515214\n",
      "Unsigned synchrony: 0.5824546212515214\n"
     ]
    }
   ],
   "source": [
    "from entrainment_metrics.tama import signed_synchrony, unsigned_synchrony\n",
    "\n",
    "# Compute and print the signed synchrony measure for F0_MAX.\n",
    "res_signed_synchrony = signed_synchrony(\n",
    "    time_series_a=time_series_a,\n",
    "    time_series_b=time_series_b,\n",
    "    lags=6,\n",
    ")\n",
    "print(f\"Signed synchrony: {res_signed_synchrony}\")\n",
    "\n",
    "# Compute and print the unsigned synchrony measure for F0_MAX.\n",
    "res_unsigned_synchrony = unsigned_synchrony(\n",
    "    time_series_a=time_series_a,\n",
    "    time_series_b=time_series_b,\n",
    "    lags=6,\n",
    ")\n",
    "print(f\"Unsigned synchrony: {res_unsigned_synchrony}\")"
   ]
  },
  {
   "cell_type": "markdown",
   "metadata": {},
   "source": [
    "## 3. Continuous TimeSeries"
   ]
  },
  {
   "cell_type": "markdown",
   "metadata": {},
   "source": [
    "Now, let's take a look at the `continuous` module, which implements three entrainment metrics -- *Synchrony*, *Proximity* and *Convergence*, as described in Gálvez et al. (2020).\n",
    "\n",
    "> Ramiro H. Gálvez, Lara Gauder, Jordi Luque, and Agustín Gravano (2020). __[“A unifying framework for modeling acoustic/prosodic entrainment: definition and evaluation on two large corpora”](https://aclanthology.org/2020.sigdial-1.27/)__. In Proceedings of SIGDIAL 2020.\n",
    "\n",
    "We begin by pre-computing feature values for all InterPausalUnits from each speaker:"
   ]
  },
  {
   "cell_type": "code",
   "execution_count": 8,
   "metadata": {
    "scrolled": true
   },
   "outputs": [
    {
     "name": "stdout",
     "output_type": "stream",
     "text": [
      "{'SECONDS': 2.322, 'F0_MAX': 406.97, 'F0_MIN': 107.295, 'F0_MEAN': 150.078, 'F0_MEDIAN': 147.472, 'F0_STDV': 41.348, 'F0_MAS': 581.602, 'ENG_MAX': 67.954, 'ENG_MIN': 33.901, 'ENG_MEAN': 56.661, 'ENG_STDV': 8.274, 'VCD2TOT_FRAMES': 0.808}\n",
      "{'SECONDS': 0.648, 'F0_MAX': 142.659, 'F0_MIN': 61.307, 'F0_MEAN': 118.065, 'F0_MEDIAN': 120.2, 'F0_STDV': 15.331, 'F0_MAS': 423.817, 'ENG_MAX': 62.146, 'ENG_MIN': 35.551, 'ENG_MEAN': 53.731, 'ENG_STDV': 7.487, 'VCD2TOT_FRAMES': 0.5}\n"
     ]
    }
   ],
   "source": [
    "for ipu in ipusA:\n",
    "    ipu.calculate_features(\n",
    "         audio_file=\"data/test-A.wav\",\n",
    "         pitch_gender=\"F\",\n",
    "         extractor=\"praat\",\n",
    "    )\n",
    "for ipu in ipusB:\n",
    "    ipu.calculate_features(\n",
    "         audio_file=\"data/test-B.wav\",\n",
    "         pitch_gender=\"M\",\n",
    "         extractor=\"praat\",\n",
    "    )\n",
    "\n",
    "# Inspect the feature values extracted for the first IPU from each speaker:\n",
    "print(ipusA[0].features_values)\n",
    "print(ipusB[0].features_values)"
   ]
  },
  {
   "cell_type": "markdown",
   "metadata": {},
   "source": [
    "### 3.1. Using Continuous TimeSeries"
   ]
  },
  {
   "cell_type": "markdown",
   "metadata": {},
   "source": [
    "Once feature values have been precalculated for all IPUs, we may create a TimeSeries object for a particular feature. In the following example, we use `F0_MEAN`, and `knn` as the method for predicting the value for each time point:"
   ]
  },
  {
   "cell_type": "code",
   "execution_count": 9,
   "metadata": {},
   "outputs": [],
   "source": [
    "from entrainment_metrics.continuous import TimeSeries\n",
    "\n",
    "time_series_A: TimeSeries = TimeSeries(\n",
    "   interpausal_units=ipusA,\n",
    "   feature=\"F0_MEAN\",\n",
    "   method='knn',\n",
    "   k=8,\n",
    ")\n",
    "    \n",
    "time_series_B: TimeSeries = TimeSeries(\n",
    "   interpausal_units=ipusB,\n",
    "   feature=\"F0_MEAN\",\n",
    "   method='knn',\n",
    "   k=8,\n",
    ")"
   ]
  },
  {
   "cell_type": "markdown",
   "metadata": {},
   "source": [
    "We may plot the two time series, and visually observe the progression of the acoustic/prosodic feature over time.\n"
   ]
  },
  {
   "cell_type": "code",
   "execution_count": 10,
   "metadata": {},
   "outputs": [
    {
     "data": {
      "image/png": "[encoded data removed]",
      "text/plain": [
       "<Figure size 640x480 with 1 Axes>"
      ]
     },
     "metadata": {},
     "output_type": "display_data"
    }
   ],
   "source": [
    "from entrainment_metrics.continuous import plot_time_series\n",
    "\n",
    "plot_time_series(\n",
    "    time_series_a=time_series_A, time_series_a_name=\"Speaker A\",\n",
    "    time_series_b=time_series_B, time_series_b_name=\"Speaker B\",            \n",
    ")"
   ]
  },
  {
   "cell_type": "markdown",
   "metadata": {},
   "source": [
    "Finally, it may be useful to note that the `predict()` method can accept both floats (time points) and a list of floats (either a Python list or a NumPy array). Additionaly, there is another method that simplifies the task of predicting over a time interval: `predict_interval()`.\n",
    "\n",
    "For example:"
   ]
  },
  {
   "cell_type": "code",
   "execution_count": 11,
   "metadata": {},
   "outputs": [
    {
     "name": "stdout",
     "output_type": "stream",
     "text": [
      "Float prediction: [154.216]\n",
      "Array prediction: [165.3215   165.3215   165.3215   165.3215   165.3215   165.3215\n",
      " 165.3215   165.3215   165.3215   165.3215   165.3215   169.304875\n",
      " 169.304875 169.304875 169.304875 169.304875 169.304875 169.304875\n",
      " 169.304875 169.304875]\n",
      "Interval prediction: [165.3215   165.3215   165.3215   165.3215   165.3215   165.3215\n",
      " 165.3215   165.3215   165.3215   165.3215   165.3215   169.304875\n",
      " 169.304875 169.304875 169.304875 169.304875 169.304875 169.304875\n",
      " 169.304875 169.304875 169.304875 169.304875]\n"
     ]
    }
   ],
   "source": [
    "import numpy as np\n",
    "\n",
    "float_prediction = time_series_A.predict(30.0)\n",
    "\n",
    "array_prediction = time_series_A.predict(np.arange(10.0, 11.0, 0.05))\n",
    "\n",
    "interval_prediction: np.ndarray = time_series_A.predict_interval(\n",
    "    start=10.0,\n",
    "    end=11.0,\n",
    "    granularity=0.05,\n",
    ")\n",
    "print(f\"Float prediction: {float_prediction}\")\n",
    "print(f\"Array prediction: {array_prediction}\")\n",
    "print(f\"Interval prediction: {interval_prediction}\")"
   ]
  },
  {
   "cell_type": "markdown",
   "metadata": {},
   "source": [
    "### 3.2. Calculating entrainment metrics\n",
    "Now we are ready to calculate the relevant entrainment metrics between speakers A and B, using the `continuous` module. The metrics available are `proximity`, `convergence`, and `synchrony`, computed in this example for the F0_MEAN feature."
   ]
  },
  {
   "cell_type": "code",
   "execution_count": 12,
   "metadata": {},
   "outputs": [
    {
     "name": "stdout",
     "output_type": "stream",
     "text": [
      "Synchrony: -0.8605306360595717\n",
      "Proximity: -27.026408250655138\n",
      "Convergence: 0.9321914514012148\n"
     ]
    }
   ],
   "source": [
    "from entrainment_metrics.continuous import calculate_metric\n",
    "\n",
    "synchrony: float = calculate_metric(\n",
    "    \"synchrony\",\n",
    "    time_series_A,\n",
    "    time_series_B,\n",
    ")\n",
    "print(f\"Synchrony: {synchrony}\")\n",
    "\n",
    "proximity: float = calculate_metric(\n",
    "    \"proximity\",\n",
    "    time_series_A,\n",
    "    time_series_B,\n",
    ")\n",
    "print(f\"Proximity: {proximity}\")\n",
    "\n",
    "convergence: float = calculate_metric(\n",
    "    \"convergence\",\n",
    "    time_series_A,\n",
    "    time_series_B,\n",
    ")\n",
    "print(f\"Convergence: {convergence}\")"
   ]
  },
  {
   "cell_type": "markdown",
   "metadata": {},
   "source": [
    "### 3.3. Speech rate\n",
    "\n",
    "Another important feature to consider is the *speech rate*. The library provides an extractor named \"speech-rate\" that estimates the amount of phonemes per second. The following example shows a procedure for this particular feature. Note that the only change is the extractor when pre-calculating a/p features; the rest of the procedure continues in the same manner as before."
   ]
  },
  {
   "cell_type": "code",
   "execution_count": 13,
   "metadata": {},
   "outputs": [
    {
     "data": {
      "image/png": "[encoded data removed]",
      "text/plain": [
       "<Figure size 640x480 with 1 Axes>"
      ]
     },
     "metadata": {},
     "output_type": "display_data"
    },
    {
     "name": "stdout",
     "output_type": "stream",
     "text": [
      "Synchrony: -0.7741040594186978\n",
      "Proximity: -3.3353540456441717\n",
      "Convergence: 0.12762816598806662\n"
     ]
    }
   ],
   "source": [
    "from entrainment_metrics.continuous import plot_time_series, TimeSeries, calculate_metric\n",
    "\n",
    "# Extract speech-rate feature from all IPUs.\n",
    "for ipu in ipusA:\n",
    "    ipu.calculate_features(\n",
    "        audio_file=\"data/test-A.wav\",\n",
    "        extractor=\"speech-rate\",\n",
    "    )\n",
    "for ipu in ipusB:\n",
    "    ipu.calculate_features(\n",
    "        audio_file=\"data/test-B.wav\",\n",
    "        extractor=\"speech-rate\",\n",
    "    )\n",
    "\n",
    "# Compute time-series for each speaker.\n",
    "time_series_A: TimeSeries = TimeSeries(\n",
    "   interpausal_units=ipusA,\n",
    "   feature=\"speech_rate\",\n",
    "   method='knn',\n",
    "   k=8,\n",
    ")\n",
    "time_series_B: TimeSeries = TimeSeries(\n",
    "   interpausal_units=ipusB,\n",
    "   feature=\"speech_rate\",\n",
    "   method='knn',\n",
    "   k=8,\n",
    ")\n",
    "\n",
    "# Visualize the time series.\n",
    "plot_time_series(\n",
    "            time_series_a=time_series_A,\n",
    "            time_series_b=time_series_B,\n",
    "            time_series_a_name=\"A\",\n",
    "            time_series_b_name=\"B\",\n",
    "        )\n",
    "\n",
    "# Compute and print the 3 entrainment metrics for speech-rate.\n",
    "synchrony: float = calculate_metric(\n",
    "    \"synchrony\",\n",
    "    time_series_A,\n",
    "    time_series_B,\n",
    ")\n",
    "print(f\"Synchrony: {synchrony}\")\n",
    "\n",
    "proximity: float = calculate_metric(\n",
    "    \"proximity\",\n",
    "    time_series_A,\n",
    "    time_series_B,\n",
    ")\n",
    "print(f\"Proximity: {proximity}\")\n",
    "\n",
    "convergence: float = calculate_metric(\n",
    "    \"convergence\",\n",
    "    time_series_A,\n",
    "    time_series_B,\n",
    ")\n",
    "print(f\"Convergence: {convergence}\")"
   ]
  },
  {
   "cell_type": "markdown",
   "metadata": {},
   "source": [
    "****\n",
    "Copyright 2023 - Universidad Torcuato Di Tella - Laboratorio de Inteligencia Artificial\n"
   ]
  }
 ],
 "metadata": {
  "kernelspec": {
   "display_name": "entrainment-metrics-jupyter",
   "language": "python",
   "name": "entrainment-metrics-jupyter"
  },
  "language_info": {
   "codemirror_mode": {
    "name": "ipython",
    "version": 3
   },
   "file_extension": ".py",
   "mimetype": "text/x-python",
   "name": "python",
   "nbconvert_exporter": "python",
   "pygments_lexer": "ipython3",
   "version": "3.10.11"
  }
 },
 "nbformat": 4,
 "nbformat_minor": 4
}
